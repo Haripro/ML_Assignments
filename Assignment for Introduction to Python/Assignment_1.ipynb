{
 "cells": [
  {
   "cell_type": "code",
   "execution_count": 6,
   "metadata": {},
   "outputs": [
    {
     "name": "stdout",
     "output_type": "stream",
     "text": [
      "Greatest of 3 Numbers \n",
      "Enter 1st No. 1\n",
      "Enter 2nd No. 2\n",
      "Enter 3rd No. 3\n",
      "3 is greater\n"
     ]
    }
   ],
   "source": [
    "# Assignment 1.1: Python program to find the largest element among 3 Numbers\n",
    "try:\n",
    "    a = int(input(\"Greatest of 3 Numbers \\nEnter 1st No. \"))\n",
    "    b = int(input(\"Enter 2nd No. \"))\n",
    "    c = int(input(\"Enter 3rd No. \"))\n",
    "    if ((a > b) and (a > c)):\n",
    "        print ('{} is greater'.format(a))\n",
    "    elif ((b > a) and (b > c)):\n",
    "        print ('{} is greater'.format(b))\n",
    "    elif ((c > a) and (c > b)):\n",
    "        print ('{} is greater'.format(c));\n",
    "except Exception as e:\n",
    "    print(\"One or many of your input is not an integer\");"
   ]
  },
  {
   "cell_type": "code",
   "execution_count": 10,
   "metadata": {},
   "outputs": [
    {
     "name": "stdout",
     "output_type": "stream",
     "text": [
      "Enter the number: 999\n",
      "999 is not a prime\n"
     ]
    }
   ],
   "source": [
    "# Assignment 1.2: Python Program to check given number is Prime number or not\n",
    "\n",
    "def primeornot(a):\n",
    "    pcount = 0\n",
    "    try:\n",
    "        if (int(a) > 1):\n",
    "            for i in range(1, int(a)+1):\n",
    "                if (int(a)%i == 0):\n",
    "                    pcount = pcount + 1\n",
    "            if (pcount <= 2):\n",
    "                #print (\"{} is a prime number\".format(a))\n",
    "                return 1\n",
    "            else:\n",
    "                return 0\n",
    "    #                 print (\"{} is not a prime number\".format(a))\n",
    "        else:\n",
    "            return 0\n",
    "    #             print(\"{} is not a prime number\".format(a))\n",
    "    except ValueError:\n",
    "        return 0\n",
    "\n",
    "        \n",
    "a = input(\"Enter the number: \")\n",
    "if primeornot(a) == 1:\n",
    "    print ('{} is a prime number'.format(a))\n",
    "else:\n",
    "    print ('{} is not a prime'.format(a))"
   ]
  },
  {
   "cell_type": "code",
   "execution_count": 8,
   "metadata": {},
   "outputs": [
    {
     "name": "stdout",
     "output_type": "stream",
     "text": [
      "Enter the start limit 1\n",
      "Enter the end limit (inclusive) 997\n",
      "2\n",
      "3\n",
      "5\n",
      "7\n",
      "11\n",
      "13\n",
      "17\n",
      "19\n",
      "23\n",
      "29\n",
      "31\n",
      "37\n",
      "41\n",
      "43\n",
      "47\n",
      "53\n",
      "59\n",
      "61\n",
      "67\n",
      "71\n",
      "73\n",
      "79\n",
      "83\n",
      "89\n",
      "97\n",
      "101\n",
      "103\n",
      "107\n",
      "109\n",
      "113\n",
      "127\n",
      "131\n",
      "137\n",
      "139\n",
      "149\n",
      "151\n",
      "157\n",
      "163\n",
      "167\n",
      "173\n",
      "179\n",
      "181\n",
      "191\n",
      "193\n",
      "197\n",
      "199\n",
      "211\n",
      "223\n",
      "227\n",
      "229\n",
      "233\n",
      "239\n",
      "241\n",
      "251\n",
      "257\n",
      "263\n",
      "269\n",
      "271\n",
      "277\n",
      "281\n",
      "283\n",
      "293\n",
      "307\n",
      "311\n",
      "313\n",
      "317\n",
      "331\n",
      "337\n",
      "347\n",
      "349\n",
      "353\n",
      "359\n",
      "367\n",
      "373\n",
      "379\n",
      "383\n",
      "389\n",
      "397\n",
      "401\n",
      "409\n",
      "419\n",
      "421\n",
      "431\n",
      "433\n",
      "439\n",
      "443\n",
      "449\n",
      "457\n",
      "461\n",
      "463\n",
      "467\n",
      "479\n",
      "487\n",
      "491\n",
      "499\n",
      "503\n",
      "509\n",
      "521\n",
      "523\n",
      "541\n",
      "547\n",
      "557\n",
      "563\n",
      "569\n",
      "571\n",
      "577\n",
      "587\n",
      "593\n",
      "599\n",
      "601\n",
      "607\n",
      "613\n",
      "617\n",
      "619\n",
      "631\n",
      "641\n",
      "643\n",
      "647\n",
      "653\n",
      "659\n",
      "661\n",
      "673\n",
      "677\n",
      "683\n",
      "691\n",
      "701\n",
      "709\n",
      "719\n",
      "727\n",
      "733\n",
      "739\n",
      "743\n",
      "751\n",
      "757\n",
      "761\n",
      "769\n",
      "773\n",
      "787\n",
      "797\n",
      "809\n",
      "811\n",
      "821\n",
      "823\n",
      "827\n",
      "829\n",
      "839\n",
      "853\n",
      "857\n",
      "859\n",
      "863\n",
      "877\n",
      "881\n",
      "883\n",
      "887\n",
      "907\n",
      "911\n",
      "919\n",
      "929\n",
      "937\n",
      "941\n",
      "947\n",
      "953\n",
      "967\n",
      "971\n",
      "977\n",
      "983\n",
      "991\n",
      "997\n"
     ]
    }
   ],
   "source": [
    "# Assignment 1.3 Python Program to display all prime numbers within an interval\n",
    "\n",
    "sn = int(input('Enter the start limit '))\n",
    "ln = int(input('Enter the end limit (inclusive) '))\n",
    "_rn = list(range(sn, ln+1))\n",
    "result = map(primeornot, _rn)\n",
    "for idx, i in enumerate(result):\n",
    "    if (i==1):\n",
    "        print(_rn[idx])"
   ]
  },
  {
   "cell_type": "code",
   "execution_count": 9,
   "metadata": {},
   "outputs": [
    {
     "name": "stdout",
     "output_type": "stream",
     "text": [
      "Enter the number: 999\n",
      "999 not a prime number\n"
     ]
    }
   ],
   "source": [
    "# Assignment 1.4: Python Program to check given number is Prime number or not (using break)\n",
    "\n",
    "try:\n",
    "    a = int(input('Enter the number: '))\n",
    "    pcount = 0\n",
    "    if(a > 1):\n",
    "        for i in range(1, a+1):\n",
    "            if (int(a)%i == 0):\n",
    "                pcount = pcount + 1\n",
    "            if pcount > 2:\n",
    "                raise Exception ('{} not a prime number'.format(a))\n",
    "                break\n",
    "        if (pcount == 2):\n",
    "            print ('{} is a prime number'.format(a))\n",
    "    else:\n",
    "        raise Exception ('{} not a prime'.format(a))\n",
    "except Exception as e:\n",
    "    print(e)"
   ]
  },
  {
   "cell_type": "code",
   "execution_count": 11,
   "metadata": {},
   "outputs": [
    {
     "name": "stdout",
     "output_type": "stream",
     "text": [
      "Enter the string: tarattarat\n",
      "tarattarat is a palindrome\n"
     ]
    }
   ],
   "source": [
    "# Assignment 2.1: Python Program to Check where a String is Palindrome or not\n",
    "\n",
    "s = input('Enter the string: ')\n",
    "len(s)\n",
    "r = ''\n",
    "for i in range(1, len(s)+1):\n",
    "    r = r + s[-i]\n",
    "\n",
    "if (s.upper() == r.upper()):\n",
    "    print('{} is a palindrome'.format(s))\n",
    "else:\n",
    "    print('{} is not a palindrome'.format(s))"
   ]
  },
  {
   "cell_type": "code",
   "execution_count": 12,
   "metadata": {},
   "outputs": [
    {
     "name": "stdout",
     "output_type": "stream",
     "text": [
      "Enter the string Television\n"
     ]
    },
    {
     "data": {
      "text/plain": [
       "'Teeiilnosv'"
      ]
     },
     "execution_count": 12,
     "metadata": {},
     "output_type": "execute_result"
    }
   ],
   "source": [
    "# Assignment 2.2: Python Program to Sort Words in Alphabetic Order\n",
    "\n",
    "s = input('Enter the string ')\n",
    "''.join(sorted(s))"
   ]
  },
  {
   "cell_type": "code",
   "execution_count": 13,
   "metadata": {},
   "outputs": [
    {
     "name": "stdout",
     "output_type": "stream",
     "text": [
      "Enter the number 1: 60\n",
      "Enter the number 2 48\n",
      "\n",
      "GCD of 60 & 48 is 12\n"
     ]
    }
   ],
   "source": [
    "# Assignment 3.1: Python program to print Highest Common Factor (HCF) of two numbers\n",
    "\n",
    "a = int(input('Enter the number 1: '))\n",
    "b = int(input('Enter the number 2 '))\n",
    "if a > b:\n",
    "    s = b\n",
    "else:\n",
    "    s = a\n",
    "for i in range(1, s+1):\n",
    "    if ((a%i == 0) and (b%i == 0)):\n",
    "        gcd = i\n",
    "\n",
    "print('\\nGCD of {0} & {1} is {2}'.format(a,b,gcd))"
   ]
  },
  {
   "cell_type": "code",
   "execution_count": 14,
   "metadata": {},
   "outputs": [
    {
     "name": "stdout",
     "output_type": "stream",
     "text": [
      "Select your operation: \n",
      "1 - add\n",
      "2 - subtract\n",
      "3 - multiply\n",
      "4 - division\n",
      "2\n",
      "\n",
      "Enter the 1st operand 99\n",
      "Enter the 2nd operand 9\n",
      "\n",
      " 90\n"
     ]
    }
   ],
   "source": [
    "# Assignment 3.2: Python program to make a simple calculator that can add, subtract, multiply and division\n",
    "\n",
    "def calc(a,b,oper):\n",
    "    if (oper == 1):\n",
    "        return a + b\n",
    "    elif(oper == 2):\n",
    "        return a - b\n",
    "    elif(oper == 3):\n",
    "        return a*b\n",
    "    elif(oper == 4):\n",
    "        return a/b\n",
    "    else:\n",
    "        return 'invalid selection'\n",
    "\n",
    "oper = int(input('Select your operation: \\n1 - add\\n2 - subtract\\n3 - multiply\\n4 - division\\n'))\n",
    "\n",
    "if ((oper > 4) or (oper < 1)):\n",
    "    print('invalid selection')\n",
    "else:\n",
    "    a = int(input('\\nEnter the 1st operand '))\n",
    "    b = int(input('Enter the 2nd operand '))\n",
    "    print ('\\n',int(calc(a,b,oper)))"
   ]
  },
  {
   "cell_type": "code",
   "execution_count": 15,
   "metadata": {},
   "outputs": [
    {
     "name": "stdout",
     "output_type": "stream",
     "text": [
      "Enter the nth term for Fibonacci series 10\n",
      "[1, 1, 2, 3, 5, 8, 13, 21, 34, 55]\n"
     ]
    }
   ],
   "source": [
    "# Assignment 3.3: Python program to display the Fibonacci sequence up to nth term using recursive function\n",
    "\n",
    "def fibonacci(n):\n",
    "    if (n <= 1):\n",
    "        return n\n",
    "    else:\n",
    "        return (fibonacci(n-1) + fibonacci(n-2))\n",
    "\n",
    "n = int(input('Enter the nth term for Fibonacci series '))\n",
    "if (n > 1):\n",
    "    print ([fibonacci(i) for i in range(1, n+1)])\n",
    "else:\n",
    "    print('Retry with a positive number')"
   ]
  },
  {
   "cell_type": "code",
   "execution_count": null,
   "metadata": {},
   "outputs": [],
   "source": []
  }
 ],
 "metadata": {
  "kernelspec": {
   "display_name": "Python 3",
   "language": "python",
   "name": "python3"
  },
  "language_info": {
   "codemirror_mode": {
    "name": "ipython",
    "version": 3
   },
   "file_extension": ".py",
   "mimetype": "text/x-python",
   "name": "python",
   "nbconvert_exporter": "python",
   "pygments_lexer": "ipython3",
   "version": "3.6.5"
  }
 },
 "nbformat": 4,
 "nbformat_minor": 2
}
