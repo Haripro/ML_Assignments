{
 "cells": [
  {
   "cell_type": "code",
   "execution_count": 19,
   "metadata": {},
   "outputs": [
    {
     "name": "stdout",
     "output_type": "stream",
     "text": [
      "1\n",
      "2\n",
      "3\n",
      "4\n",
      "5\n",
      "[0 1 2]\n"
     ]
    },
    {
     "data": {
      "text/plain": [
       "array([ 2.        ,  2.88888889,  3.77777778,  4.66666667,  5.55555556,\n",
       "        6.44444444,  7.33333333,  8.22222222,  9.11111111, 10.        ])"
      ]
     },
     "execution_count": 19,
     "metadata": {},
     "output_type": "execute_result"
    }
   ],
   "source": [
    "#Create an array using the method 1. array 2. arange 3. linspace\n",
    "\n",
    "#array method\n",
    "\n",
    "import array as a\n",
    "_intarr = a.array('i', [1,2,3,4,5])\n",
    "for arrv in _intarr:\n",
    "    print (arrv)\n",
    "\n",
    "#arange method\n",
    "import numpy as np\n",
    "print(np.arange(3))\n",
    "\n",
    "#linespace\n",
    "print(np.linspace(2,10,10))"
   ]
  },
  {
   "cell_type": "code",
   "execution_count": 25,
   "metadata": {},
   "outputs": [
    {
     "name": "stdout",
     "output_type": "stream",
     "text": [
      "Dimension is 2 and shape is (4, 2)\n"
     ]
    }
   ],
   "source": [
    "#Identify the shape and dimensions of an array\n",
    "\n",
    "import numpy as np\n",
    "arr = np.array([[2.,  2.88888889],[3.77777778,  4.66666667], [5.55555556, 6.44444444],[7.33333333,  8.22222222]])\n",
    "print('Dimension is {} and shape is {}'.format(arr.ndim, arr.shape))"
   ]
  },
  {
   "cell_type": "code",
   "execution_count": 34,
   "metadata": {},
   "outputs": [
    {
     "name": "stdout",
     "output_type": "stream",
     "text": [
      "[ 1 -1 -1  4 -1 -1  7 -1]\n"
     ]
    }
   ],
   "source": [
    "#Replace the values which are multiples of 5 by -1 using fancy indexing in [1,5,10,4,15,20,7,35]\n",
    "\n",
    "arr = np.array([1,5,10,4,15,20,7,35])\n",
    "mask = (arr%5 == 0)\n",
    "arr[mask] = -1\n",
    "print(arr)"
   ]
  },
  {
   "cell_type": "code",
   "execution_count": 45,
   "metadata": {},
   "outputs": [
    {
     "name": "stdout",
     "output_type": "stream",
     "text": [
      "826\n"
     ]
    }
   ],
   "source": [
    "#Create a array and find out the sum of the elements\n",
    "\n",
    "arr = np.random.randint(100,size=(10,2))\n",
    "print(arr.sum())"
   ]
  },
  {
   "cell_type": "code",
   "execution_count": 57,
   "metadata": {},
   "outputs": [
    {
     "name": "stdout",
     "output_type": "stream",
     "text": [
      "(1, 4)\n",
      "(4,)\n",
      "1\n"
     ]
    }
   ],
   "source": [
    "#Reshape an array np.array([1, 2, 3, 4], ndmin=2) using ravel and identify the shape, dimensions and write your conclusions\n",
    "\n",
    "arr = np.array([1, 2, 3, 4], ndmin=2)\n",
    "print(arr.shape)\n",
    "print(arr.ravel().shape)\n",
    "print(arr.ravel().ndim)"
   ]
  },
  {
   "cell_type": "code",
   "execution_count": 67,
   "metadata": {},
   "outputs": [
    {
     "data": {
      "text/plain": [
       "array([1, 3, 4, 5])"
      ]
     },
     "execution_count": 67,
     "metadata": {},
     "output_type": "execute_result"
    }
   ],
   "source": [
    "# How to remove from one array those items that exist in another? a = np.array([1, 2, 3, 4, 5]) b = np.array([5, 6, 3, 1, 4])\n",
    "\n",
    "a = np.array([1, 2, 3, 4, 5]) \n",
    "b = np.array([5, 6, 3, 1, 4])\n",
    "\n",
    "np.intersect1d(a,b)"
   ]
  },
  {
   "cell_type": "code",
   "execution_count": null,
   "metadata": {},
   "outputs": [],
   "source": []
  }
 ],
 "metadata": {
  "kernelspec": {
   "display_name": "Python 3",
   "language": "python",
   "name": "python3"
  },
  "language_info": {
   "codemirror_mode": {
    "name": "ipython",
    "version": 3
   },
   "file_extension": ".py",
   "mimetype": "text/x-python",
   "name": "python",
   "nbconvert_exporter": "python",
   "pygments_lexer": "ipython3",
   "version": "3.6.5"
  }
 },
 "nbformat": 4,
 "nbformat_minor": 2
}
