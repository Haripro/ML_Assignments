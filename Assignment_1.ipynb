{
 "cells": [
  {
   "cell_type": "code",
   "execution_count": 8,
   "metadata": {},
   "outputs": [
    {
     "name": "stdout",
     "output_type": "stream",
     "text": [
      "Greatest of 3 Numbers \n",
      "Enter 1st No. 100\n",
      "Enter 2nd No. 99\n",
      "Enter 3rd No. 98\n",
      "99 is greater\n"
     ]
    }
   ],
   "source": [
    "# Assignment 1.1: Python program to find the largest element among 3 Numbers\n",
    "\n",
    "a = int(input(\"Greatest of 3 Numbers \\nEnter 1st No. \"))\n",
    "b = input(\"Enter 2nd No. \"))\n",
    "c = input(\"Enter 3rd No. \")\n",
    "if (a.isnumeric() and b.isnumeric() and c.isnumeric()):\n",
    "    if ((a > b) and (a > c)):\n",
    "        print ('{} is greater'.format(a))\n",
    "    elif ((b > a) and (b > c)):\n",
    "        print ('{} is greater'.format(b))\n",
    "    elif ((c > a) and (c > b)):\n",
    "        print ('{} is greater'.format(c));\n",
    "else:\n",
    "    print(\"One or many of your input is not an integer\");"
   ]
  },
  {
   "cell_type": "code",
   "execution_count": null,
   "metadata": {},
   "outputs": [],
   "source": [
    "# Assignment 1.2: Python Program to check given number is Prime number or not\n",
    "\n",
    "def primeornot(a):\n",
    "    pcount = 0\n",
    "    try:\n",
    "        if (int(a) > 1):\n",
    "            for i in range(1, int(a)+1):\n",
    "                if (int(a)%i == 0):\n",
    "                    pcount = pcount + 1\n",
    "            if (pcount <= 2):\n",
    "                #print (\"{} is a prime number\".format(a))\n",
    "                return 1\n",
    "            else:\n",
    "                return 0\n",
    "    #                 print (\"{} is not a prime number\".format(a))\n",
    "        else:\n",
    "            return 0\n",
    "    #             print(\"{} is not a prime number\".format(a))\n",
    "    except ValueError:\n",
    "        return 0\n",
    "\n",
    "        \n",
    "a = input(\"Enter the number: \")\n",
    "if primeornot(a) == 1:\n",
    "    print ('{} is a prime number'.format(a))\n",
    "else:\n",
    "    print ('{} is not a prime'.format(a))"
   ]
  },
  {
   "cell_type": "code",
   "execution_count": null,
   "metadata": {},
   "outputs": [],
   "source": [
    "# Assignment 1.3 Python Program to display all prime numbers within an interval\n",
    "\n",
    "sn = int(input('Enter the start limit '))\n",
    "ln = int(input('Enter the end limit (inclusive) '))\n",
    "_rn = list(range(sn, ln+1))\n",
    "result = map(primeornot, _rn)\n",
    "for idx, i in enumerate(result):\n",
    "    if (i==1):\n",
    "        print(_rn[idx])"
   ]
  },
  {
   "cell_type": "code",
   "execution_count": null,
   "metadata": {},
   "outputs": [],
   "source": [
    "# Assignment 1.4: Python Program to check given number is Prime number or not (using break)\n",
    "\n",
    "try:\n",
    "    a = int(input('Enter the number: '))\n",
    "    pcount = 0\n",
    "    if(a > 1):\n",
    "        for i in range(1, a+1):\n",
    "            if (int(a)%i == 0):\n",
    "                pcount = pcount + 1\n",
    "            if pcount > 2:\n",
    "                raise Exception ('{} not a prime number'.format(a))\n",
    "                break\n",
    "        if (pcount == 2):\n",
    "            print ('{} is a prime number'.format(a))\n",
    "    else:\n",
    "        raise Exception ('{} not a prime'.format(a))\n",
    "except Exception as e:\n",
    "    print(e)"
   ]
  },
  {
   "cell_type": "code",
   "execution_count": null,
   "metadata": {},
   "outputs": [],
   "source": [
    "# Assignment 2.1: Python Program to Check where a String is Palindrome or not\n",
    "\n",
    "s = input('Enter the string: ')\n",
    "len(s)\n",
    "r = ''\n",
    "for i in range(1, len(s)+1):\n",
    "    r = r + s[-i]\n",
    "\n",
    "if (s.upper() == r.upper()):\n",
    "    print('{} is a palindrome'.format(s))\n",
    "else:\n",
    "    print('{} is not a palindrome'.format(s))"
   ]
  },
  {
   "cell_type": "code",
   "execution_count": null,
   "metadata": {},
   "outputs": [],
   "source": [
    "# Assignment 2.2: Python Program to Sort Words in Alphabetic Order\n",
    "\n",
    "s = input('Enter the string ')\n",
    "''.join(sorted(s))"
   ]
  },
  {
   "cell_type": "code",
   "execution_count": null,
   "metadata": {},
   "outputs": [],
   "source": [
    "# Assignment 3.1: Python program to print Highest Common Factor (HCF) of two numbers\n",
    "\n",
    "a = int(input('Enter the number 1: '))\n",
    "b = int(input('Enter the number 2 '))\n",
    "if a > b:\n",
    "    s = b\n",
    "else:\n",
    "    s = a\n",
    "for i in range(1, s+1):\n",
    "    if ((a%i == 0) and (b%i == 0)):\n",
    "        gcd = i\n",
    "\n",
    "print('\\nGCD of {0} & {1} is {2}'.format(a,b,gcd))"
   ]
  },
  {
   "cell_type": "code",
   "execution_count": null,
   "metadata": {},
   "outputs": [],
   "source": [
    "# Assignment 3.2: Python program to make a simple calculator that can add, subtract, multiply and division\n",
    "\n",
    "def calc(a,b,oper):\n",
    "    if (oper == 1):\n",
    "        return a + b\n",
    "    elif(oper == 2):\n",
    "        return a - b\n",
    "    elif(oper == 3):\n",
    "        return a*b\n",
    "    elif(oper == 4):\n",
    "        return a/b\n",
    "    else:\n",
    "        return 'invalid selection'\n",
    "\n",
    "oper = int(input('Select your operation: \\n1 - add\\n2 - subtract\\n3 - multiply\\n4 - division\\n'))\n",
    "\n",
    "if ((oper > 4) or (oper < 1)):\n",
    "    print('invalid selection')\n",
    "else:\n",
    "    a = int(input('\\nEnter the 1st operand '))\n",
    "    b = int(input('Enter the 2nd operand '))\n",
    "    print ('\\n',int(calc(a,b,oper)))"
   ]
  },
  {
   "cell_type": "code",
   "execution_count": null,
   "metadata": {},
   "outputs": [],
   "source": [
    "# Assignment 3.3: Python program to display the Fibonacci sequence up to nth term using recursive function\n",
    "\n",
    "def fibonacci(n):\n",
    "    if (n <= 1):\n",
    "        return n\n",
    "    else:\n",
    "        return (fibonacci(n-1) + fibonacci(n-2))\n",
    "\n",
    "n = int(input('Enter the nth term for Fibonacci series '))\n",
    "if (n > 1):\n",
    "    print ([fibonacci(i) for i in range(1, n+1)])\n",
    "else:\n",
    "    print('Retry with a positive number')"
   ]
  },
  {
   "cell_type": "code",
   "execution_count": null,
   "metadata": {},
   "outputs": [],
   "source": []
  }
 ],
 "metadata": {
  "kernelspec": {
   "display_name": "Python 3",
   "language": "python",
   "name": "python3"
  },
  "language_info": {
   "codemirror_mode": {
    "name": "ipython",
    "version": 3
   },
   "file_extension": ".py",
   "mimetype": "text/x-python",
   "name": "python",
   "nbconvert_exporter": "python",
   "pygments_lexer": "ipython3",
   "version": "3.6.5"
  }
 },
 "nbformat": 4,
 "nbformat_minor": 2
}
